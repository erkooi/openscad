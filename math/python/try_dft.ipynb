{
 "cells": [
  {
   "cell_type": "code",
   "execution_count": 1,
   "metadata": {},
   "outputs": [],
   "source": [
    "################################################################################\n",
    "# Copyright 2022 E. Kooistra\n",
    "#\n",
    "# Licensed under the Apache License, Version 2.0 (the \"License\");\n",
    "# you may not use this file except in compliance with the License.\n",
    "# You may obtain a copy of the License at\n",
    "#\n",
    "#     http://www.apache.org/licenses/LICENSE-2.0\n",
    "#\n",
    "# Unless required by applicable law or agreed to in writing, software\n",
    "# distributed under the License is distributed on an \"AS IS\" BASIS,\n",
    "# WITHOUT WARRANTIES OR CONDITIONS OF ANY KIND, either express or implied.\n",
    "# See the License for the specific language governing permissions and\n",
    "# limitations under the License.\n",
    "################################################################################\n",
    "#\n",
    "# Author: E. Kooistra, May 2022\n",
    "# Purpose:\n",
    "#   Verify the equivalent DFT functions in dft.scad.\n",
    "#   Calculate DFT for a real input using operations that can also be applied in\n",
    "#   OpenSCAD.\n",
    "# Description:\n",
    "#   OpenSCAD can create matrices and vectors using list comprehension. OpenSCAD\n",
    "#   also supports matrix multiplication of any dimensions (see numscad.scad).\n",
    "#   OpenSCAD does not support complex values. Therefore use list comprehension\n",
    "#   to create DFT matrix W = W_re + W_im * 1j, and then matrix multiplication by\n",
    "#   separate W_re and W_im to calculate X = DFT(x) = W_re * x + W_im * x * 1j."
   ]
  },
  {
   "cell_type": "markdown",
   "metadata": {},
   "source": [
    "# DTF formula\n",
    "```\n",
    "       N-1\n",
    "X(k) = sum x[n] w**nk\n",
    "       n=0\n",
    "\n",
    "w = exp(-2 * pi * j / N)\n",
    "```\n",
    "n in range(N) times series points (or position series points)\n",
    "\n",
    "k in range(N) frequency points:\n",
    "* k = 0 : DC\n",
    "* k > 0 : weights x(n) with k exp periods "
   ]
  },
  {
   "cell_type": "code",
   "execution_count": 2,
   "metadata": {},
   "outputs": [],
   "source": [
    "import numpy as np\n",
    "import matplotlib.pyplot as plt"
   ]
  },
  {
   "cell_type": "code",
   "execution_count": 3,
   "metadata": {},
   "outputs": [],
   "source": [
    "f_eps = 1e-10"
   ]
  },
  {
   "cell_type": "markdown",
   "metadata": {},
   "source": [
    "## 1. DFT square N x N matrix\n",
    "```\n",
    "  X = W * x\n",
    "  \n",
    "      |1 1      1       1       ... 1          |\n",
    "      |1 w      w2      w3      ... w(N-1)     |\n",
    "      |1 w2     w4      w6      ... w2(N-1)    |\n",
    "      |1 w3     w6      w9      ... w3(N-1)    |\n",
    "  W = |...                                     |\n",
    "      |1 w(N-1) w2(N-1) w3(N-1) ... w(N-1)(N-1)|\n",
    "```"
   ]
  },
  {
   "cell_type": "code",
   "execution_count": 4,
   "metadata": {},
   "outputs": [
    {
     "name": "stdout",
     "output_type": "stream",
     "text": [
      "angle = 0.351562 [degrees]\n",
      "phasor = (0.9999811752826011-0.006135884649154475j)\n"
     ]
    }
   ],
   "source": [
    "# DFT size:\n",
    "# . = nof points of DFT\n",
    "# . = nof input samples, n in range(N),\n",
    "# . = nof output frequencies, k in range(N)\n",
    "N = 1024\n",
    "\n",
    "# Angle u and complex phasor w\n",
    "u = 2 * np.pi / N\n",
    "w = np.exp(1j * -u)\n",
    "print('angle = %f [degrees]' % np.rad2deg(u))\n",
    "print('phasor = %s' % str(w))"
   ]
  },
  {
   "cell_type": "code",
   "execution_count": 5,
   "metadata": {},
   "outputs": [
    {
     "data": {
      "text/plain": [
       "array([[   0,    0,    0, ...,    0,    0,    0],\n",
       "       [   0,    1,    2, ..., 1021, 1022, 1023],\n",
       "       [   0,    2,    4, ..., 1018, 1020, 1022],\n",
       "       ...,\n",
       "       [   0, 1021, 1018, ...,    9,    6,    3],\n",
       "       [   0, 1022, 1020, ...,    6,    4,    2],\n",
       "       [   0, 1023, 1022, ...,    3,    2,    1]], dtype=int32)"
      ]
     },
     "execution_count": 5,
     "metadata": {},
     "output_type": "execute_result"
    }
   ],
   "source": [
    "# Create nk matrix using numpy arrays\n",
    "#\n",
    "#  nk matrix\n",
    "#     0 1 2 3 n                     nn          nn.T\n",
    "#  0  0 0 0 0    = 0 * [0 1 2 3]    |0 0 0 0|   |0 1 2 3|\n",
    "#  1  0 1 2 3    = 1 * [0 1 2 3]    |1 1 1 1|   |0 1 2 3|\n",
    "#  2  0 2 4 6    = 2 * [0 1 2 3] is |2 2 2 2| * |0 1 2 3|\n",
    "#  3  0 3 6 9    = 3 * [0 1 2 3]    |3 3 3 3|   |0 1 2 3|\n",
    "#  k\n",
    "# \n",
    "# Note:\n",
    "# . Doing nk modulo N is not needed, but fine to do. It keeps the\n",
    "#   phase within 2 pi. Thus many nk entries are the same, this is\n",
    "#   what the FFT makes use of to implement the fast DFT. Here the\n",
    "#   DFT is implemented, so it is slow, but that is fine here.\n",
    "nn = np.repeat(np.arange(N), N).reshape((N,N))\n",
    "nk = nn * nn.T\n",
    "nk = nk % N\n",
    "nk"
   ]
  },
  {
   "cell_type": "code",
   "execution_count": 6,
   "metadata": {},
   "outputs": [],
   "source": [
    "# W matrix, using numpy array functions\n",
    "W = w ** nk / N\n",
    "W_re = np.cos(-u * nk) / N   # = W.real\n",
    "W_im = np.sin(-u * nk) / N   # = W.imag\n",
    "\n",
    "# Verify that W matrix calculation methods yield same result\n",
    "assert np.all(np.abs(W_re - W.real)) < f_eps, \"Wrong W_re matrix\"\n",
    "assert np.all(np.abs(W_im - W.imag)) < f_eps, \"Wrong W_im matrix\"\n",
    "\n",
    "if N <= 8:\n",
    "    print(W.shape, W_re.shape, W_im.shape)\n",
    "    print(f\"W = {W}\\n\")\n",
    "    print(f\"W_re = {W_re}\\n\")\n",
    "    print(f\"W_im = {W_im}\\n\")"
   ]
  },
  {
   "cell_type": "code",
   "execution_count": 7,
   "metadata": {},
   "outputs": [],
   "source": [
    "# W matrix, using list comprehensions and then numpy.asarray(list)\n",
    "V = np.asarray([ [ np.exp(1j * -u * k * n) for n in range(N) ] for k in range(N) ]) / N;\n",
    "V_re = np.asarray([ [ np.cos(-u * k * n) for n in range(N) ] for k in range(N) ]) / N;\n",
    "V_im = np.asarray([ [ np.sin(-u * k * n) for n in range(N) ] for k in range(N) ]) / N;\n",
    "\n",
    "# Verify that W matrix calculation methods yield same result\n",
    "assert np.sum(np.abs(W - V)) / N < f_eps, \"Wrong V matrix\"\n",
    "assert np.sum(np.abs(W_re - V_re)) / N < f_eps, \"Wrong V_re matrix\"\n",
    "assert np.sum(np.abs(W_im - V_im)) / N < f_eps, \"Wrong V_im matrix\""
   ]
  },
  {
   "cell_type": "markdown",
   "metadata": {},
   "source": [
    "## 2. Input signal"
   ]
  },
  {
   "cell_type": "code",
   "execution_count": 8,
   "metadata": {},
   "outputs": [
    {
     "data": {
      "image/png": "[encoded data removed]",
      "text/plain": [
       "<Figure size 432x288 with 1 Axes>"
      ]
     },
     "metadata": {
      "needs_background": "light"
     },
     "output_type": "display_data"
    }
   ],
   "source": [
    "# Input signal\n",
    "K = 5  # frequency bin, nof periods in N points\n",
    "dc = 0.1\n",
    "phi = np.radians(30)\n",
    "t = np.linspace(0, 1, N, endpoint=False)\n",
    "x = np.cos(2 * np.pi * t * K + phi) + dc\n",
    "\n",
    "plt.plot(t, x)\n",
    "plt.title(\"Input signal\")\n",
    "plt.xlabel(\"t\")\n",
    "plt.ylabel(\"x(t)\")\n",
    "plt.grid()"
   ]
  },
  {
   "cell_type": "markdown",
   "metadata": {},
   "source": [
    "## 3. Calculate X = DFT(x)"
   ]
  },
  {
   "cell_type": "markdown",
   "metadata": {},
   "source": [
    "### 3.1 Using numpy FFT for reference"
   ]
  },
  {
   "cell_type": "code",
   "execution_count": 9,
   "metadata": {},
   "outputs": [
    {
     "data": {
      "image/png": "[encoded data removed]",
      "text/plain": [
       "<Figure size 432x288 with 1 Axes>"
      ]
     },
     "metadata": {
      "needs_background": "light"
     },
     "output_type": "display_data"
    }
   ],
   "source": [
    "# Using numpy FFT for reference\n",
    "f = N * np.linspace(-0.5, 0.5, N, endpoint=False)\n",
    "X_fft = np.fft.fftshift(np.fft.fft(x)) / N\n",
    "\n",
    "X_fft_abs = np.abs(X_fft)\n",
    "\n",
    "plt.plot(f, X_fft_abs)\n",
    "plt.title(\"FFT(x) using numpy fft()\")\n",
    "plt.xlabel(\"frequency bin k\")\n",
    "plt.ylabel(\"X(k)\")\n",
    "plt.grid()"
   ]
  },
  {
   "cell_type": "markdown",
   "metadata": {},
   "source": [
    "### 3.2 Using DFT matrix and list comprehension"
   ]
  },
  {
   "cell_type": "code",
   "execution_count": 10,
   "metadata": {},
   "outputs": [
    {
     "data": {
      "image/png": "[encoded data removed]",
      "text/plain": [
       "<Figure size 432x288 with 1 Axes>"
      ]
     },
     "metadata": {
      "needs_background": "light"
     },
     "output_type": "display_data"
    }
   ],
   "source": [
    "# Using DFT matrix, complex numbers and list comprehension\n",
    "X_mat = [np.sum([x[xt] * (w**xf)**xt for xt in range(N)]) / N for xf in range(N)]\n",
    "X_mat = np.fft.fftshift(X_mat)\n",
    "\n",
    "X_mat_abs = np.abs(X_mat)\n",
    "\n",
    "plt.plot(f, X_mat_abs)\n",
    "plt.title(\"FFT(x) using NxN matrix\")\n",
    "plt.xlabel(\"frequency bin k\")\n",
    "plt.ylabel(\"X(k)\")\n",
    "plt.grid()"
   ]
  },
  {
   "cell_type": "markdown",
   "metadata": {},
   "source": [
    "### 3.3 Using DFT matrix and complex tuples"
   ]
  },
  {
   "cell_type": "code",
   "execution_count": 11,
   "metadata": {},
   "outputs": [],
   "source": [
    "# Define complex numbers as (re, im) tuples\n",
    "def complex_mult(aa, bb):\n",
    "    # aa * bb = aa.re * bb.re - aa.im * bb.im + j * (aa.re * bb.im + aa.im * bb.re)\n",
    "    return (aa[0]*bb[0] - aa[1]*bb[1], aa[0]*bb[1] + aa[1]*bb[0])\n",
    "\n",
    "def complex_sum_arr(aa_arr):\n",
    "    re = 0\n",
    "    im = 0\n",
    "    for I in range(N):\n",
    "        re += aa_arr[I][0]\n",
    "        im += aa_arr[I][1]\n",
    "    return (re, im)\n",
    "\n",
    "def complex_abs(aa):\n",
    "    return np.abs(aa[0] + 1j * aa[1])\n",
    "\n",
    "def complex_angle(aa, deg=False):\n",
    "    return np.angle(aa[0] + 1j * aa[1] , deg=deg)\n",
    "\n",
    "def complex_abs_arr(aa_arr):\n",
    "    abs_arr = np.zeros(N)\n",
    "    for I in range(N):\n",
    "        abs_arr[I] = complex_abs(aa_arr[I])\n",
    "    return abs_arr\n",
    "\n",
    "def complex_angle_arr(aa_arr, deg=False):\n",
    "    angle_arr = np.zeros(N)\n",
    "    for I in range(N):\n",
    "        angle_arr[I] = complex_angle(aa_arr[I], deg=deg)\n",
    "    return angle_arr"
   ]
  },
  {
   "cell_type": "code",
   "execution_count": 12,
   "metadata": {},
   "outputs": [
    {
     "data": {
      "image/png": "[encoded data removed]",
      "text/plain": [
       "<Figure size 432x288 with 1 Axes>"
      ]
     },
     "metadata": {
      "needs_background": "light"
     },
     "output_type": "display_data"
    }
   ],
   "source": [
    "# Using DFT square N x N matrix and complex numbers as (re, im) tuples\n",
    "XX_mat = [complex_sum_arr([complex_mult((x[n] / N, 0), (np.cos(-u * k * n), np.sin(-u * k * n))) for n in range(N)]) for k in range(N)]\n",
    "\n",
    "XX_mat = np.fft.fftshift(XX_mat)\n",
    "\n",
    "XX_mat_abs = complex_abs_arr(XX_mat)\n",
    "XX_mat_angle = complex_angle_arr(XX_mat, deg=True)\n",
    "\n",
    "plt.plot(f, XX_mat_abs)\n",
    "plt.title(\"FFT(x) using NxN matrix and complex tuples\")\n",
    "plt.xlabel(\"frequency bin k\")\n",
    "plt.ylabel(\"X(k)\")\n",
    "plt.grid()\n",
    "#print(XX_mat_abs)\n",
    "#print(XX_mat_angle)"
   ]
  },
  {
   "cell_type": "markdown",
   "metadata": {},
   "source": [
    "### 3.4 Using DFT matrix W and separate W_re, W_im"
   ]
  },
  {
   "cell_type": "code",
   "execution_count": 13,
   "metadata": {},
   "outputs": [
    {
     "data": {
      "image/png": "[encoded data removed]",
      "text/plain": [
       "<Figure size 432x288 with 1 Axes>"
      ]
     },
     "metadata": {
      "needs_background": "light"
     },
     "output_type": "display_data"
    }
   ],
   "source": [
    "# Using DFT matrix and complex numbers as separate re, im products\n",
    "if 0:\n",
    "    # . using list comprehensions and np.asarray(list)\n",
    "    X_in_re_exp_re = np.asarray([np.sum([x[n] * np.cos(-u * k * n) for n in range(N)]) for k in range(N)]) / N\n",
    "    X_in_re_exp_im = np.asarray([np.sum([x[n] * np.sin(-u * k * n) for n in range(N)]) for k in range(N)]) / N\n",
    "else:\n",
    "    # . using numpy array functions (@ for matrix multiplication)\n",
    "    X_in_re_exp_re = W_re @ x\n",
    "    X_in_re_exp_im = W_im @ x\n",
    "\n",
    "XReal_re = np.fft.fftshift(X_in_re_exp_re)\n",
    "XReal_im = np.fft.fftshift(X_in_re_exp_im)\n",
    "\n",
    "# Real input, so input im = 0 and no need to calculate XX_mat_im_re, XX_mat_im_im\n",
    "XReal_abs = [np.sqrt(XReal_re[k]**2 + XReal_im[k]**2) for k in range(N)]\n",
    "XReal_angle = [np.arctan2(XReal_im[k], XReal_re[k]) for k in range(N)]\n",
    "\n",
    "plt.plot(f, XReal_abs)\n",
    "plt.title(\"FFT(x) using NxN matrix and separate re, im\")\n",
    "plt.xlabel(\"frequency bin k\")\n",
    "plt.ylabel(\"X(k)\")\n",
    "plt.grid()"
   ]
  },
  {
   "cell_type": "markdown",
   "metadata": {},
   "source": [
    "### 3.5 Conclusion\n",
    "\n",
    "For Python:\n",
    "* Using numpy array functions instead of list comprehension and np.asarray, is more clean because it avoids list conversions.\n",
    "* Has build in complex numbers\n",
    "\n",
    "For OpenSCAD\n",
    "* Using list comprehensions resembles for() generate and recursive functions in OpenSCAD. In OpenSCAD one cannot use for-loops to go through array elements.\n",
    "* Does not have build in complex numbers. Use complex numbers as separate re, im products, is also suitable in OpenSCAD. Using complex values as tuples (re, im) or arrays [re, im] is not useful, because it requires defining custom operator functions (complex_mult, complex_abs, complex_sum).\n",
    "* Does have matrix multiplication, so use list comprehension to create matrix and vectors, and then matrix multiplication to calculate further, because this makes the matrix operations more clean than using list comprehensions also for matrix operations.\n"
   ]
  },
  {
   "cell_type": "code",
   "execution_count": 14,
   "metadata": {},
   "outputs": [
    {
     "name": "stdout",
     "output_type": "stream",
     "text": [
      "[3 4 5 0 1 2]\n",
      "[3 4 0 1 2]\n",
      "[1 0]\n",
      "[4]\n",
      "[]\n"
     ]
    }
   ],
   "source": [
    "# Try fftshift()\n",
    "print(np.fft.fftshift([0, 1, 2, 3, 4, 5]))\n",
    "print(np.fft.fftshift([0, 1, 2, 3, 4]))\n",
    "print(np.fft.fftshift([0, 1]))\n",
    "print(np.fft.fftshift([4]))\n",
    "print(np.fft.fftshift([]))"
   ]
  },
  {
   "cell_type": "code",
   "execution_count": null,
   "metadata": {},
   "outputs": [],
   "source": []
  }
 ],
 "metadata": {
  "kernelspec": {
   "display_name": "Python 3",
   "language": "python",
   "name": "python3"
  },
  "language_info": {
   "codemirror_mode": {
    "name": "ipython",
    "version": 3
   },
   "file_extension": ".py",
   "mimetype": "text/x-python",
   "name": "python",
   "nbconvert_exporter": "python",
   "pygments_lexer": "ipython3",
   "version": "3.8.5"
  }
 },
 "nbformat": 4,
 "nbformat_minor": 5
}
